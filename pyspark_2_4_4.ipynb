{
  "nbformat": 4,
  "nbformat_minor": 0,
  "metadata": {
    "colab": {
      "name": "pyspark_2.4.4.ipynb",
      "provenance": [],
      "authorship_tag": "ABX9TyMBgqY/gEs+UxHCrDGCC+To",
      "include_colab_link": true
    },
    "kernelspec": {
      "name": "python3",
      "display_name": "Python 3"
    }
  },
  "cells": [
    {
      "cell_type": "markdown",
      "metadata": {
        "id": "view-in-github",
        "colab_type": "text"
      },
      "source": [
        "<a href=\"https://colab.research.google.com/github/Ankith2612/hive/blob/master/pyspark_2_4_4.ipynb\" target=\"_parent\"><img src=\"https://colab.research.google.com/assets/colab-badge.svg\" alt=\"Open In Colab\"/></a>"
      ]
    },
    {
      "cell_type": "code",
      "metadata": {
        "id": "Avl7KrDTGTTb",
        "colab_type": "code",
        "colab": {
          "base_uri": "https://localhost:8080/",
          "height": 204
        },
        "outputId": "e5d28755-7619-4e52-e8b8-93cab5393b5e"
      },
      "source": [
        "!apt-get install openjdk-8-jdk-headless -qq > /dev/null\n",
        "!wget https://downloads.apache.org/spark/spark-2.4.6/spark-2.4.6-bin-hadoop2.7.tgz\n",
        "!tar xf spark-2.4.6-bin-hadoop2.7.tgz\n",
        "!pip install -q findspark"
      ],
      "execution_count": 8,
      "outputs": [
        {
          "output_type": "stream",
          "text": [
            "--2020-08-05 15:00:11--  https://downloads.apache.org/spark/spark-2.4.6/spark-2.4.6-bin-hadoop2.7.tgz\n",
            "Resolving downloads.apache.org (downloads.apache.org)... 88.99.95.219, 2a01:4f8:10a:201a::2\n",
            "Connecting to downloads.apache.org (downloads.apache.org)|88.99.95.219|:443... connected.\n",
            "HTTP request sent, awaiting response... 200 OK\n",
            "Length: 233215067 (222M) [application/x-gzip]\n",
            "Saving to: ‘spark-2.4.6-bin-hadoop2.7.tgz’\n",
            "\n",
            "spark-2.4.6-bin-had 100%[===================>] 222.41M  26.5MB/s    in 8.9s    \n",
            "\n",
            "2020-08-05 15:00:20 (25.0 MB/s) - ‘spark-2.4.6-bin-hadoop2.7.tgz’ saved [233215067/233215067]\n",
            "\n"
          ],
          "name": "stdout"
        }
      ]
    },
    {
      "cell_type": "code",
      "metadata": {
        "id": "nkNl1AMWIT5-",
        "colab_type": "code",
        "colab": {}
      },
      "source": [
        "import os\n",
        "os.environ[\"JAVA_HOME\"] = \"/usr/lib/jvm/java-8-openjdk-amd64\"\n",
        "os.environ[\"SPARK_HOME\"] = \"/content/spark-2.4.6-bin-hadoop2.7\""
      ],
      "execution_count": 9,
      "outputs": []
    },
    {
      "cell_type": "code",
      "metadata": {
        "id": "DljsCzyZJg65",
        "colab_type": "code",
        "colab": {}
      },
      "source": [
        "import findspark\n",
        "findspark.init(\"spark-2.4.6-bin-hadoop2.7\")# SPARK_HOME\n",
        "from pyspark.sql import SparkSession\n",
        "spark = SparkSession.builder.master(\"local[*]\").getOrCreate()"
      ],
      "execution_count": 13,
      "outputs": []
    },
    {
      "cell_type": "code",
      "metadata": {
        "id": "rX9AwzGIJN5D",
        "colab_type": "code",
        "colab": {
          "base_uri": "https://localhost:8080/",
          "height": 190
        },
        "outputId": "a0852145-87f8-4e42-a99d-3f37cc62255f"
      },
      "source": [
        "df = spark.read.csv(\"/content/drive/My Drive/Colab Notebooks/Accident_train.csv\")\n",
        "df.show(3)"
      ],
      "execution_count": 14,
      "outputs": [
        {
          "output_type": "stream",
          "text": [
            "+----------------+-------------+------------------+--------------------+----------------+------------------+-----------------+----------------+-----------+---------------+----------------+---------------+---------------+----------------+------------------+--------------------+--------------------+\n",
            "|             _c0|          _c1|               _c2|                 _c3|             _c4|               _c5|              _c6|             _c7|        _c8|            _c9|            _c10|           _c11|           _c12|            _c13|              _c14|                _c15|                _c16|\n",
            "+----------------+-------------+------------------+--------------------+----------------+------------------+-----------------+----------------+-----------+---------------+----------------+---------------+---------------+----------------+------------------+--------------------+--------------------+\n",
            "|Collision_Ref_No|Policing_Area|Collision_Severity|Weekday_of_Collision|Day_of_Collision|Month_of_Collision|Hour_of_Collision|Carriageway_Type|Speed_Limit|Junction_Detail|Junction_Control|Ped_Crossing_HC|Ped_Crossing_PC|Light_Conditions|Weather_Conditions|Road_Surface_Cond...|Special_Condition...|\n",
            "|            3518|         CREA|                 3|                 MON|               4|                 8|               14|              13|         60|              1|               1|              1|              1|               2|                 9|                   9|                   1|\n",
            "|           10557|         BELC|                 3|                 SAT|               8|                 8|               17|              11|         50|             12|               7|              1|              1|               4|                 3|                   1|                   1|\n",
            "+----------------+-------------+------------------+--------------------+----------------+------------------+-----------------+----------------+-----------+---------------+----------------+---------------+---------------+----------------+------------------+--------------------+--------------------+\n",
            "only showing top 3 rows\n",
            "\n"
          ],
          "name": "stdout"
        }
      ]
    }
  ]
}